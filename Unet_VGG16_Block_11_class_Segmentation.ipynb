{
  "nbformat": 4,
  "nbformat_minor": 0,
  "metadata": {
    "colab": {
      "name": "Unet_VGG16 Block_11_class_Segmentation.ipynb",
      "provenance": [],
      "mount_file_id": "1ReWAM7YG748IKATEpnrLFRdvWakTHog6",
      "authorship_tag": "ABX9TyMQAHDf6Mlw37LqzmenVfi0",
      "include_colab_link": true
    },
    "kernelspec": {
      "name": "python3",
      "display_name": "Python 3"
    },
    "widgets": {
      "application/vnd.jupyter.widget-state+json": {
        "d0a0d0920e6648e8910bb0c1c63c4f77": {
          "model_module": "@jupyter-widgets/controls",
          "model_name": "HBoxModel",
          "state": {
            "_view_name": "HBoxView",
            "_dom_classes": [],
            "_model_name": "HBoxModel",
            "_view_module": "@jupyter-widgets/controls",
            "_model_module_version": "1.5.0",
            "_view_count": null,
            "_view_module_version": "1.5.0",
            "box_style": "",
            "layout": "IPY_MODEL_4cd85601a1844a5eb51f6c07fdc255ba",
            "_model_module": "@jupyter-widgets/controls",
            "children": [
              "IPY_MODEL_c80164000d9e49d0bc8b3417fbbbc711",
              "IPY_MODEL_70ffe0641afe44d79891899821e757fb"
            ]
          }
        },
        "4cd85601a1844a5eb51f6c07fdc255ba": {
          "model_module": "@jupyter-widgets/base",
          "model_name": "LayoutModel",
          "state": {
            "_view_name": "LayoutView",
            "grid_template_rows": null,
            "right": null,
            "justify_content": null,
            "_view_module": "@jupyter-widgets/base",
            "overflow": null,
            "_model_module_version": "1.2.0",
            "_view_count": null,
            "flex_flow": null,
            "width": null,
            "min_width": null,
            "border": null,
            "align_items": null,
            "bottom": null,
            "_model_module": "@jupyter-widgets/base",
            "top": null,
            "grid_column": null,
            "overflow_y": null,
            "overflow_x": null,
            "grid_auto_flow": null,
            "grid_area": null,
            "grid_template_columns": null,
            "flex": null,
            "_model_name": "LayoutModel",
            "justify_items": null,
            "grid_row": null,
            "max_height": null,
            "align_content": null,
            "visibility": null,
            "align_self": null,
            "height": null,
            "min_height": null,
            "padding": null,
            "grid_auto_rows": null,
            "grid_gap": null,
            "max_width": null,
            "order": null,
            "_view_module_version": "1.2.0",
            "grid_template_areas": null,
            "object_position": null,
            "object_fit": null,
            "grid_auto_columns": null,
            "margin": null,
            "display": null,
            "left": null
          }
        },
        "c80164000d9e49d0bc8b3417fbbbc711": {
          "model_module": "@jupyter-widgets/controls",
          "model_name": "FloatProgressModel",
          "state": {
            "_view_name": "ProgressView",
            "style": "IPY_MODEL_551c6ba2cedd47f186a83a114b040533",
            "_dom_classes": [],
            "description": "100%",
            "_model_name": "FloatProgressModel",
            "bar_style": "success",
            "max": 367,
            "_view_module": "@jupyter-widgets/controls",
            "_model_module_version": "1.5.0",
            "value": 367,
            "_view_count": null,
            "_view_module_version": "1.5.0",
            "orientation": "horizontal",
            "min": 0,
            "description_tooltip": null,
            "_model_module": "@jupyter-widgets/controls",
            "layout": "IPY_MODEL_b7c281acd6b54a4a901201a1d2e842c4"
          }
        },
        "70ffe0641afe44d79891899821e757fb": {
          "model_module": "@jupyter-widgets/controls",
          "model_name": "HTMLModel",
          "state": {
            "_view_name": "HTMLView",
            "style": "IPY_MODEL_4184b32f437f4b0591b72716749fe4ee",
            "_dom_classes": [],
            "description": "",
            "_model_name": "HTMLModel",
            "placeholder": "​",
            "_view_module": "@jupyter-widgets/controls",
            "_model_module_version": "1.5.0",
            "value": " 367/367 [01:26&lt;00:00,  4.26it/s]",
            "_view_count": null,
            "_view_module_version": "1.5.0",
            "description_tooltip": null,
            "_model_module": "@jupyter-widgets/controls",
            "layout": "IPY_MODEL_9e4476adc89b43bb8b7e51fb0734cb26"
          }
        },
        "551c6ba2cedd47f186a83a114b040533": {
          "model_module": "@jupyter-widgets/controls",
          "model_name": "ProgressStyleModel",
          "state": {
            "_view_name": "StyleView",
            "_model_name": "ProgressStyleModel",
            "description_width": "initial",
            "_view_module": "@jupyter-widgets/base",
            "_model_module_version": "1.5.0",
            "_view_count": null,
            "_view_module_version": "1.2.0",
            "bar_color": null,
            "_model_module": "@jupyter-widgets/controls"
          }
        },
        "b7c281acd6b54a4a901201a1d2e842c4": {
          "model_module": "@jupyter-widgets/base",
          "model_name": "LayoutModel",
          "state": {
            "_view_name": "LayoutView",
            "grid_template_rows": null,
            "right": null,
            "justify_content": null,
            "_view_module": "@jupyter-widgets/base",
            "overflow": null,
            "_model_module_version": "1.2.0",
            "_view_count": null,
            "flex_flow": null,
            "width": null,
            "min_width": null,
            "border": null,
            "align_items": null,
            "bottom": null,
            "_model_module": "@jupyter-widgets/base",
            "top": null,
            "grid_column": null,
            "overflow_y": null,
            "overflow_x": null,
            "grid_auto_flow": null,
            "grid_area": null,
            "grid_template_columns": null,
            "flex": null,
            "_model_name": "LayoutModel",
            "justify_items": null,
            "grid_row": null,
            "max_height": null,
            "align_content": null,
            "visibility": null,
            "align_self": null,
            "height": null,
            "min_height": null,
            "padding": null,
            "grid_auto_rows": null,
            "grid_gap": null,
            "max_width": null,
            "order": null,
            "_view_module_version": "1.2.0",
            "grid_template_areas": null,
            "object_position": null,
            "object_fit": null,
            "grid_auto_columns": null,
            "margin": null,
            "display": null,
            "left": null
          }
        },
        "4184b32f437f4b0591b72716749fe4ee": {
          "model_module": "@jupyter-widgets/controls",
          "model_name": "DescriptionStyleModel",
          "state": {
            "_view_name": "StyleView",
            "_model_name": "DescriptionStyleModel",
            "description_width": "",
            "_view_module": "@jupyter-widgets/base",
            "_model_module_version": "1.5.0",
            "_view_count": null,
            "_view_module_version": "1.2.0",
            "_model_module": "@jupyter-widgets/controls"
          }
        },
        "9e4476adc89b43bb8b7e51fb0734cb26": {
          "model_module": "@jupyter-widgets/base",
          "model_name": "LayoutModel",
          "state": {
            "_view_name": "LayoutView",
            "grid_template_rows": null,
            "right": null,
            "justify_content": null,
            "_view_module": "@jupyter-widgets/base",
            "overflow": null,
            "_model_module_version": "1.2.0",
            "_view_count": null,
            "flex_flow": null,
            "width": null,
            "min_width": null,
            "border": null,
            "align_items": null,
            "bottom": null,
            "_model_module": "@jupyter-widgets/base",
            "top": null,
            "grid_column": null,
            "overflow_y": null,
            "overflow_x": null,
            "grid_auto_flow": null,
            "grid_area": null,
            "grid_template_columns": null,
            "flex": null,
            "_model_name": "LayoutModel",
            "justify_items": null,
            "grid_row": null,
            "max_height": null,
            "align_content": null,
            "visibility": null,
            "align_self": null,
            "height": null,
            "min_height": null,
            "padding": null,
            "grid_auto_rows": null,
            "grid_gap": null,
            "max_width": null,
            "order": null,
            "_view_module_version": "1.2.0",
            "grid_template_areas": null,
            "object_position": null,
            "object_fit": null,
            "grid_auto_columns": null,
            "margin": null,
            "display": null,
            "left": null
          }
        },
        "2628178afdb54066a411a1628932a2b8": {
          "model_module": "@jupyter-widgets/controls",
          "model_name": "HBoxModel",
          "state": {
            "_view_name": "HBoxView",
            "_dom_classes": [],
            "_model_name": "HBoxModel",
            "_view_module": "@jupyter-widgets/controls",
            "_model_module_version": "1.5.0",
            "_view_count": null,
            "_view_module_version": "1.5.0",
            "box_style": "",
            "layout": "IPY_MODEL_a2cd1e0a350f498fa7ef589a8a4699ff",
            "_model_module": "@jupyter-widgets/controls",
            "children": [
              "IPY_MODEL_7399a488fd4844c49205f2e8011dd22f",
              "IPY_MODEL_2eb4a8a7677a45d096e8cacc2f341c95"
            ]
          }
        },
        "a2cd1e0a350f498fa7ef589a8a4699ff": {
          "model_module": "@jupyter-widgets/base",
          "model_name": "LayoutModel",
          "state": {
            "_view_name": "LayoutView",
            "grid_template_rows": null,
            "right": null,
            "justify_content": null,
            "_view_module": "@jupyter-widgets/base",
            "overflow": null,
            "_model_module_version": "1.2.0",
            "_view_count": null,
            "flex_flow": null,
            "width": null,
            "min_width": null,
            "border": null,
            "align_items": null,
            "bottom": null,
            "_model_module": "@jupyter-widgets/base",
            "top": null,
            "grid_column": null,
            "overflow_y": null,
            "overflow_x": null,
            "grid_auto_flow": null,
            "grid_area": null,
            "grid_template_columns": null,
            "flex": null,
            "_model_name": "LayoutModel",
            "justify_items": null,
            "grid_row": null,
            "max_height": null,
            "align_content": null,
            "visibility": null,
            "align_self": null,
            "height": null,
            "min_height": null,
            "padding": null,
            "grid_auto_rows": null,
            "grid_gap": null,
            "max_width": null,
            "order": null,
            "_view_module_version": "1.2.0",
            "grid_template_areas": null,
            "object_position": null,
            "object_fit": null,
            "grid_auto_columns": null,
            "margin": null,
            "display": null,
            "left": null
          }
        },
        "7399a488fd4844c49205f2e8011dd22f": {
          "model_module": "@jupyter-widgets/controls",
          "model_name": "FloatProgressModel",
          "state": {
            "_view_name": "ProgressView",
            "style": "IPY_MODEL_f846f769ad9a4826a5891c7aef7c4955",
            "_dom_classes": [],
            "description": "100%",
            "_model_name": "FloatProgressModel",
            "bar_style": "success",
            "max": 101,
            "_view_module": "@jupyter-widgets/controls",
            "_model_module_version": "1.5.0",
            "value": 101,
            "_view_count": null,
            "_view_module_version": "1.5.0",
            "orientation": "horizontal",
            "min": 0,
            "description_tooltip": null,
            "_model_module": "@jupyter-widgets/controls",
            "layout": "IPY_MODEL_f9831c62d0984f47a75ad3187daaa808"
          }
        },
        "2eb4a8a7677a45d096e8cacc2f341c95": {
          "model_module": "@jupyter-widgets/controls",
          "model_name": "HTMLModel",
          "state": {
            "_view_name": "HTMLView",
            "style": "IPY_MODEL_f32a1cabb8a04707b95d2cfe3f6d2fad",
            "_dom_classes": [],
            "description": "",
            "_model_name": "HTMLModel",
            "placeholder": "​",
            "_view_module": "@jupyter-widgets/controls",
            "_model_module_version": "1.5.0",
            "value": " 101/101 [01:03&lt;00:00,  1.58it/s]",
            "_view_count": null,
            "_view_module_version": "1.5.0",
            "description_tooltip": null,
            "_model_module": "@jupyter-widgets/controls",
            "layout": "IPY_MODEL_efc68c2b76ce4cda9193e6db31ca6fe8"
          }
        },
        "f846f769ad9a4826a5891c7aef7c4955": {
          "model_module": "@jupyter-widgets/controls",
          "model_name": "ProgressStyleModel",
          "state": {
            "_view_name": "StyleView",
            "_model_name": "ProgressStyleModel",
            "description_width": "initial",
            "_view_module": "@jupyter-widgets/base",
            "_model_module_version": "1.5.0",
            "_view_count": null,
            "_view_module_version": "1.2.0",
            "bar_color": null,
            "_model_module": "@jupyter-widgets/controls"
          }
        },
        "f9831c62d0984f47a75ad3187daaa808": {
          "model_module": "@jupyter-widgets/base",
          "model_name": "LayoutModel",
          "state": {
            "_view_name": "LayoutView",
            "grid_template_rows": null,
            "right": null,
            "justify_content": null,
            "_view_module": "@jupyter-widgets/base",
            "overflow": null,
            "_model_module_version": "1.2.0",
            "_view_count": null,
            "flex_flow": null,
            "width": null,
            "min_width": null,
            "border": null,
            "align_items": null,
            "bottom": null,
            "_model_module": "@jupyter-widgets/base",
            "top": null,
            "grid_column": null,
            "overflow_y": null,
            "overflow_x": null,
            "grid_auto_flow": null,
            "grid_area": null,
            "grid_template_columns": null,
            "flex": null,
            "_model_name": "LayoutModel",
            "justify_items": null,
            "grid_row": null,
            "max_height": null,
            "align_content": null,
            "visibility": null,
            "align_self": null,
            "height": null,
            "min_height": null,
            "padding": null,
            "grid_auto_rows": null,
            "grid_gap": null,
            "max_width": null,
            "order": null,
            "_view_module_version": "1.2.0",
            "grid_template_areas": null,
            "object_position": null,
            "object_fit": null,
            "grid_auto_columns": null,
            "margin": null,
            "display": null,
            "left": null
          }
        },
        "f32a1cabb8a04707b95d2cfe3f6d2fad": {
          "model_module": "@jupyter-widgets/controls",
          "model_name": "DescriptionStyleModel",
          "state": {
            "_view_name": "StyleView",
            "_model_name": "DescriptionStyleModel",
            "description_width": "",
            "_view_module": "@jupyter-widgets/base",
            "_model_module_version": "1.5.0",
            "_view_count": null,
            "_view_module_version": "1.2.0",
            "_model_module": "@jupyter-widgets/controls"
          }
        },
        "efc68c2b76ce4cda9193e6db31ca6fe8": {
          "model_module": "@jupyter-widgets/base",
          "model_name": "LayoutModel",
          "state": {
            "_view_name": "LayoutView",
            "grid_template_rows": null,
            "right": null,
            "justify_content": null,
            "_view_module": "@jupyter-widgets/base",
            "overflow": null,
            "_model_module_version": "1.2.0",
            "_view_count": null,
            "flex_flow": null,
            "width": null,
            "min_width": null,
            "border": null,
            "align_items": null,
            "bottom": null,
            "_model_module": "@jupyter-widgets/base",
            "top": null,
            "grid_column": null,
            "overflow_y": null,
            "overflow_x": null,
            "grid_auto_flow": null,
            "grid_area": null,
            "grid_template_columns": null,
            "flex": null,
            "_model_name": "LayoutModel",
            "justify_items": null,
            "grid_row": null,
            "max_height": null,
            "align_content": null,
            "visibility": null,
            "align_self": null,
            "height": null,
            "min_height": null,
            "padding": null,
            "grid_auto_rows": null,
            "grid_gap": null,
            "max_width": null,
            "order": null,
            "_view_module_version": "1.2.0",
            "grid_template_areas": null,
            "object_position": null,
            "object_fit": null,
            "grid_auto_columns": null,
            "margin": null,
            "display": null,
            "left": null
          }
        }
      }
    },
    "accelerator": "GPU"
  },
  "cells": [
    {
      "cell_type": "markdown",
      "metadata": {
        "id": "view-in-github",
        "colab_type": "text"
      },
      "source": [
        "<a href=\"https://colab.research.google.com/github/ashishpatel26/Semantic-Segmentation-Keras-Tensorflow-Example/blob/main/Unet_VGG16_Block_11_class_Segmentation.ipynb\" target=\"_parent\"><img src=\"https://colab.research.google.com/assets/colab-badge.svg\" alt=\"Open In Colab\"/></a>"
      ]
    },
    {
      "cell_type": "code",
      "metadata": {
        "id": "tkmwGkIMwyIW"
      },
      "source": [
        "import os\n",
        "import random\n",
        "import cv2\n",
        "import pandas as pd\n",
        "import numpy as np\n",
        "import matplotlib.pyplot as plt\n",
        "import warnings\n",
        "warnings.filterwarnings('ignore')\n",
        "plt.style.use(\"ggplot\")\n",
        "import itertools\n",
        "import glob\n",
        "%matplotlib inline\n",
        "\n",
        "from tqdm.notebook import trange, tqdm\n",
        "\n",
        "from itertools import chain\n",
        "from skimage.io import imread, imshow, concatenate_images\n",
        "from skimage.transform import resize\n",
        "from skimage.morphology import label\n",
        "from sklearn.model_selection import train_test_split\n",
        "\n",
        "import tensorflow as tf\n",
        "from tensorflow.keras.models import load_model, Model\n",
        "from tensorflow.keras.layers import *\n",
        "from tensorflow.keras.applications import vgg16\n",
        "from tensorflow.keras.callbacks import EarlyStopping, ModelCheckpoint, ReduceLROnPlateau, TensorBoard\n",
        "from tensorflow.keras.optimizers import Adam\n",
        "from tensorflow.keras.preprocessing.image import ImageDataGenerator, array_to_img, img_to_array, load_img\n",
        "from tensorflow.keras import backend as K\n",
        "\n",
        "os.chdir('/content/drive/Shared drives/Deep learning drive/Semantic Segmentation/')"
      ],
      "execution_count": 1,
      "outputs": []
    },
    {
      "cell_type": "code",
      "metadata": {
        "id": "FJMCxF9AY61Y"
      },
      "source": [
        "def getImageArr(im):\n",
        "\n",
        "    img = im.astype(np.float32)\n",
        "\n",
        "    img[:, :, 0] -= 103.939\n",
        "    img[:, :, 1] -= 116.779\n",
        "    img[:, :, 2] -= 123.68\n",
        "\n",
        "    return img\n",
        "\n",
        "\n",
        "def getSegmentationArr(seg, nClasses, input_height, input_width):\n",
        "\n",
        "    seg_labels = np.zeros((input_height, input_width, nClasses))\n",
        "\n",
        "    for c in range(nClasses):\n",
        "      seg_labels[:, :, c] = (seg == c).astype(int)\n",
        "\n",
        "    seg_labels = np.reshape(seg_labels, (-1, nClasses))\n",
        "\n",
        "    return seg_labels\n",
        "\n",
        "def imageSegmentationGenerator(images_path, segs_path, batch_size, n_classes, input_height, input_width):\n",
        "\n",
        "  assert images_path[-1] == '/'\n",
        "  assert segs_path[-1] == '/'\n",
        "\n",
        "  images = sorted(glob.glob(images_path + \"*.jpg\") + \n",
        "                  glob.glob(images_path + \"*.png\") + \n",
        "                  glob.glob(images_path + \"*.jpeg\"))\n",
        "\n",
        "  segmentations = sorted(glob.glob(segs_path + \"*.jpg\") + \n",
        "                          glob.glob(segs_path + \"*.png\") + \n",
        "                          glob.glob(segs_path + \"*.jpeg\"))\n",
        "\n",
        "  zipped = itertools.cycle(zip(images, segmentations))\n",
        "\n",
        "  while True:\n",
        "      X = []\n",
        "      Y = []\n",
        "      for _ in tqdm(range(batch_size)):\n",
        "          im, seg = zipped.__next__()\n",
        "          im = cv2.imread(im, 1)\n",
        "          seg = cv2.imread(seg, 0)\n",
        "\n",
        "          assert im.shape[:2] == seg.shape[:2]\n",
        "\n",
        "          assert im.shape[0] >= input_height and im.shape[1] >= input_width\n",
        "\n",
        "          xx = random.randint(0, im.shape[0] - input_height)\n",
        "          yy = random.randint(0, im.shape[1] - input_width)\n",
        "\n",
        "          im = im[xx:xx + input_height, yy:yy + input_width]\n",
        "          seg = seg[xx:xx + input_height, yy:yy + input_width]\n",
        "\n",
        "          X.append(getImageArr(im))\n",
        "          Y.append(getSegmentationArr(seg,\n",
        "                                      n_classes,\n",
        "                                      input_height,\n",
        "                                      input_width))\n",
        "\n",
        "      yield np.array(X), np.array(Y)"
      ],
      "execution_count": 8,
      "outputs": []
    },
    {
      "cell_type": "code",
      "metadata": {
        "id": "1kqAvbBFwxrP"
      },
      "source": [
        "# !unzip 'dataset1.zip' -d './'\n",
        "input_height = 320\n",
        "input_width = 320\n",
        "n_classes = 11\n",
        "batch_size = 8"
      ],
      "execution_count": 9,
      "outputs": []
    },
    {
      "cell_type": "code",
      "metadata": {
        "id": "dg3Pbyz3wxn0",
        "outputId": "55b723c9-da29-48fd-abcc-237b86ee4377",
        "colab": {
          "base_uri": "https://localhost:8080/"
        }
      },
      "source": [
        "ids = next(os.walk(\"./dataset1/images_prepped_train/\"))[2] # list of names all images in the given path\n",
        "print(\"No. of images = \", len(ids))"
      ],
      "execution_count": 4,
      "outputs": [
        {
          "output_type": "stream",
          "text": [
            "No. of images =  367\n"
          ],
          "name": "stdout"
        }
      ]
    },
    {
      "cell_type": "markdown",
      "metadata": {
        "id": "21EF0zHmE5a4"
      },
      "source": [
        "## Data Reading and Train Test"
      ]
    },
    {
      "cell_type": "code",
      "metadata": {
        "id": "Nznh63F1E-Pg",
        "outputId": "5ee7a381-1a9a-489a-f9da-7cd42fd50dac",
        "colab": {
          "base_uri": "https://localhost:8080/",
          "height": 150,
          "referenced_widgets": [
            "d0a0d0920e6648e8910bb0c1c63c4f77",
            "4cd85601a1844a5eb51f6c07fdc255ba",
            "c80164000d9e49d0bc8b3417fbbbc711",
            "70ffe0641afe44d79891899821e757fb",
            "551c6ba2cedd47f186a83a114b040533",
            "b7c281acd6b54a4a901201a1d2e842c4",
            "4184b32f437f4b0591b72716749fe4ee",
            "9e4476adc89b43bb8b7e51fb0734cb26",
            "2628178afdb54066a411a1628932a2b8",
            "a2cd1e0a350f498fa7ef589a8a4699ff",
            "7399a488fd4844c49205f2e8011dd22f",
            "2eb4a8a7677a45d096e8cacc2f341c95",
            "f846f769ad9a4826a5891c7aef7c4955",
            "f9831c62d0984f47a75ad3187daaa808",
            "f32a1cabb8a04707b95d2cfe3f6d2fad",
            "efc68c2b76ce4cda9193e6db31ca6fe8"
          ]
        }
      },
      "source": [
        "# Manually reading the file and Generate the list of Images\n",
        "X_train, y_train = imageSegmentationGenerator(images_path = \"./dataset1/images_prepped_train/\",\n",
        "                                              segs_path = \"./dataset1/annotations_prepped_train/\", \n",
        "                                              batch_size = 367, \n",
        "                                              n_classes=n_classes, \n",
        "                                              input_height=input_height, \n",
        "                                              input_width=input_width).__next__()\n",
        "print(X_train.shape, y_train.shape)\n",
        "\n",
        "X_test, y_test = imageSegmentationGenerator(images_path = \"./dataset1/images_prepped_test/\",\n",
        "                                             segs_path = \"./dataset1/annotations_prepped_test/\",\n",
        "                                            batch_size = 101, \n",
        "                                            n_classes=n_classes, \n",
        "                                            input_height=320, \n",
        "                                            input_width=320).__next__()\n",
        "print(X_test.shape, y_test.shape)                          "
      ],
      "execution_count": 12,
      "outputs": [
        {
          "output_type": "display_data",
          "data": {
            "application/vnd.jupyter.widget-view+json": {
              "model_id": "d0a0d0920e6648e8910bb0c1c63c4f77",
              "version_minor": 0,
              "version_major": 2
            },
            "text/plain": [
              "HBox(children=(FloatProgress(value=0.0, max=367.0), HTML(value='')))"
            ]
          },
          "metadata": {
            "tags": []
          }
        },
        {
          "output_type": "stream",
          "text": [
            "\n",
            "(367, 320, 320, 3) (367, 102400, 11)\n"
          ],
          "name": "stdout"
        },
        {
          "output_type": "display_data",
          "data": {
            "application/vnd.jupyter.widget-view+json": {
              "model_id": "2628178afdb54066a411a1628932a2b8",
              "version_minor": 0,
              "version_major": 2
            },
            "text/plain": [
              "HBox(children=(FloatProgress(value=0.0, max=101.0), HTML(value='')))"
            ]
          },
          "metadata": {
            "tags": []
          }
        },
        {
          "output_type": "stream",
          "text": [
            "\n",
            "(101, 320, 320, 3) (101, 102400, 11)\n"
          ],
          "name": "stdout"
        }
      ]
    },
    {
      "cell_type": "code",
      "metadata": {
        "id": "wALIx5NOFSeZ"
      },
      "source": [
        "# def prepare_X_and_Y(train ,train_mask, h = h, w = w):\n",
        "#     \"\"\"\n",
        "#     Prepare X and y dataset\n",
        "\n",
        "#     Args:\n",
        "#         train: (bool): List of Images\n",
        "#         train_mask: (int): List of Masked Images\n",
        "#         h: (todo): Height of Images\n",
        "#         w: (todo): Width of Images\n",
        "#     \"\"\"\n",
        "#   # prepare the zeros array of x and y\n",
        "#     X_train = np.zeros((len(train), h, w, 3), dtype=np.float32)\n",
        "#     y_train = np.zeros((len(train_mask), h, w, 1), dtype=np.float32)\n",
        "\n",
        "#     for n, (img, mimg) in tqdm(enumerate(zip(train, train_mask))):\n",
        "#       # Load images\n",
        "#       img = load_img(img)\n",
        "#       x_img = img_to_array(img)\n",
        "#       x_img = resize(x_img, (h, w, 3), mode = 'constant', preserve_range = True)\n",
        "#       # # Load masks\n",
        "#       mask = img_to_array(load_img(mimg, color_mode = \"grayscale\"))\n",
        "#       mask = resize(mask, (h, w, 1), mode = 'constant', preserve_range = True)\n",
        "#       # Save images\n",
        "#       X_train[n] = x_img/255.0\n",
        "#       y_train[n] = mask/255.0\n",
        "\n",
        "#     print(f\"Shape of Images: {X_train.shape}\\nShape of Masked Images: {y_train.shape}\")  \n",
        "#     return X_train, y_train"
      ],
      "execution_count": 5,
      "outputs": []
    },
    {
      "cell_type": "code",
      "metadata": {
        "id": "axlvolludouH"
      },
      "source": [
        "dataset = tf.data.Dataset.from_tensor_slices((X_train, y_train)).batch(32)\n",
        "valset = tf.data.Dataset.from_tensor_slices((X_test, y_test)).batch(32)"
      ],
      "execution_count": 24,
      "outputs": []
    },
    {
      "cell_type": "markdown",
      "metadata": {
        "id": "AtyqQQPHJRl4"
      },
      "source": [
        "## Visualize the Example"
      ]
    },
    {
      "cell_type": "code",
      "metadata": {
        "id": "bZ8C8_ZVJQ0y"
      },
      "source": [
        "# # Visualize any randome image along with the mask\n",
        "# ix = random.randint(0, len(X_train))\n",
        "# has_mask = y_train_new[ix].max() > 0 # salt indicator\n",
        "\n",
        "# fig, (ax1, ax2) = plt.subplots(1, 2, figsize = (20, 15))\n",
        "\n",
        "# ax1.imshow(X_train[ix, ..., 0], cmap = 'seismic', interpolation = 'bilinear')\n",
        "# if has_mask: # if salt\n",
        "#     # draw a boundary(contour) in the original image separating salt and non-salt areas\n",
        "#     ax1.contour(y_train_new[ix].squeeze(), colors = 'k', linewidths = 5, levels = [0.5])\n",
        "# ax1.set_title('Segmented')\n",
        "# ax1.set_axis_off()\n",
        "\n",
        "# ax2.imshow(y_train_new[ix].squeeze(), cmap = 'gray', interpolation = 'bilinear')\n",
        "# ax2.set_title('Binary Mask')\n",
        "# ax2.set_axis_off()"
      ],
      "execution_count": 19,
      "outputs": []
    },
    {
      "cell_type": "markdown",
      "metadata": {
        "id": "eYwlUr_QKMU2"
      },
      "source": [
        "### Unet Model Design"
      ]
    },
    {
      "cell_type": "code",
      "metadata": {
        "id": "tTspklO65KXi"
      },
      "source": [
        "def UNet(nClasses, input_height, input_width):\n",
        "\n",
        "    assert input_height % 32 == 0\n",
        "    assert input_width % 32 == 0\n",
        "\n",
        "    img_input = Input(shape=(input_height, input_width, 3))\n",
        "\n",
        "    vgg_streamlined = vgg16.VGG16(include_top=False,weights='imagenet', input_tensor=img_input)\n",
        "    assert isinstance(vgg_streamlined, Model)\n",
        "\n",
        "    # Exploding path\n",
        "    o = UpSampling2D((2, 2))(vgg_streamlined.output)\n",
        "    o = concatenate([vgg_streamlined.get_layer(name=\"block4_pool\").output, o], axis=-1)\n",
        "    o = Conv2D(512, (3, 3), padding=\"same\")(o)\n",
        "    o = BatchNormalization()(o)\n",
        "\n",
        "    o = UpSampling2D((2, 2))(o)\n",
        "    o = concatenate([vgg_streamlined.get_layer(name=\"block3_pool\").output, o], axis=-1)\n",
        "    o = Conv2D(256, (3, 3), padding=\"same\")(o)\n",
        "    o = BatchNormalization()(o)\n",
        "\n",
        "    o = UpSampling2D((2, 2))(o)\n",
        "    o = concatenate([vgg_streamlined.get_layer(name=\"block2_pool\").output, o], axis=-1)\n",
        "    o = Conv2D(128, (3, 3), padding=\"same\")(o)\n",
        "    o = BatchNormalization()(o)\n",
        "\n",
        "    o = UpSampling2D((2, 2))(o)\n",
        "    o = concatenate([vgg_streamlined.get_layer(name=\"block1_pool\").output, o], axis=-1)\n",
        "    o = Conv2D(64, (3, 3), padding=\"same\")(o)\n",
        "    o = BatchNormalization()(o)\n",
        "\n",
        "    # UNet network processing the input mirror magnification 2 times, so the final input and output are reduced by 2 times\n",
        "    # Here directly upsample and set the original size\n",
        "    o = UpSampling2D((2, 2))(o)\n",
        "    o = Conv2D(64, (3, 3), padding=\"same\")(o)\n",
        "    o = BatchNormalization()(o)\n",
        "\n",
        "    o = Conv2D(nClasses, (1, 1), padding=\"same\")(o)\n",
        "    o = BatchNormalization()(o)\n",
        "    o = Activation(\"relu\")(o)\n",
        "\n",
        "    o = Reshape((-1, nClasses))(o)\n",
        "    o = Activation(\"softmax\")(o)\n",
        "\n",
        "    model = Model(inputs=img_input, outputs=o)\n",
        "    return model"
      ],
      "execution_count": 25,
      "outputs": []
    },
    {
      "cell_type": "code",
      "metadata": {
        "id": "ejpImYiSKSBn",
        "outputId": "f748f44f-03be-4694-c078-f352a7fdf130",
        "colab": {
          "base_uri": "https://localhost:8080/"
        }
      },
      "source": [
        "model = UNet(nClasses=n_classes, input_height=h, input_width=w)\n",
        "model.compile(loss='categorical_crossentropy', optimizer=\"adadelta\", metrics=['accuracy'])\n",
        "model.summary()"
      ],
      "execution_count": 26,
      "outputs": [
        {
          "output_type": "stream",
          "text": [
            "Model: \"functional_5\"\n",
            "__________________________________________________________________________________________________\n",
            "Layer (type)                    Output Shape         Param #     Connected to                     \n",
            "==================================================================================================\n",
            "input_3 (InputLayer)            [(None, 320, 320, 3) 0                                            \n",
            "__________________________________________________________________________________________________\n",
            "block1_conv1 (Conv2D)           (None, 320, 320, 64) 1792        input_3[0][0]                    \n",
            "__________________________________________________________________________________________________\n",
            "block1_conv2 (Conv2D)           (None, 320, 320, 64) 36928       block1_conv1[0][0]               \n",
            "__________________________________________________________________________________________________\n",
            "block1_pool (MaxPooling2D)      (None, 160, 160, 64) 0           block1_conv2[0][0]               \n",
            "__________________________________________________________________________________________________\n",
            "block2_conv1 (Conv2D)           (None, 160, 160, 128 73856       block1_pool[0][0]                \n",
            "__________________________________________________________________________________________________\n",
            "block2_conv2 (Conv2D)           (None, 160, 160, 128 147584      block2_conv1[0][0]               \n",
            "__________________________________________________________________________________________________\n",
            "block2_pool (MaxPooling2D)      (None, 80, 80, 128)  0           block2_conv2[0][0]               \n",
            "__________________________________________________________________________________________________\n",
            "block3_conv1 (Conv2D)           (None, 80, 80, 256)  295168      block2_pool[0][0]                \n",
            "__________________________________________________________________________________________________\n",
            "block3_conv2 (Conv2D)           (None, 80, 80, 256)  590080      block3_conv1[0][0]               \n",
            "__________________________________________________________________________________________________\n",
            "block3_conv3 (Conv2D)           (None, 80, 80, 256)  590080      block3_conv2[0][0]               \n",
            "__________________________________________________________________________________________________\n",
            "block3_pool (MaxPooling2D)      (None, 40, 40, 256)  0           block3_conv3[0][0]               \n",
            "__________________________________________________________________________________________________\n",
            "block4_conv1 (Conv2D)           (None, 40, 40, 512)  1180160     block3_pool[0][0]                \n",
            "__________________________________________________________________________________________________\n",
            "block4_conv2 (Conv2D)           (None, 40, 40, 512)  2359808     block4_conv1[0][0]               \n",
            "__________________________________________________________________________________________________\n",
            "block4_conv3 (Conv2D)           (None, 40, 40, 512)  2359808     block4_conv2[0][0]               \n",
            "__________________________________________________________________________________________________\n",
            "block4_pool (MaxPooling2D)      (None, 20, 20, 512)  0           block4_conv3[0][0]               \n",
            "__________________________________________________________________________________________________\n",
            "block5_conv1 (Conv2D)           (None, 20, 20, 512)  2359808     block4_pool[0][0]                \n",
            "__________________________________________________________________________________________________\n",
            "block5_conv2 (Conv2D)           (None, 20, 20, 512)  2359808     block5_conv1[0][0]               \n",
            "__________________________________________________________________________________________________\n",
            "block5_conv3 (Conv2D)           (None, 20, 20, 512)  2359808     block5_conv2[0][0]               \n",
            "__________________________________________________________________________________________________\n",
            "block5_pool (MaxPooling2D)      (None, 10, 10, 512)  0           block5_conv3[0][0]               \n",
            "__________________________________________________________________________________________________\n",
            "up_sampling2d_10 (UpSampling2D) (None, 20, 20, 512)  0           block5_pool[0][0]                \n",
            "__________________________________________________________________________________________________\n",
            "concatenate_8 (Concatenate)     (None, 20, 20, 1024) 0           block4_pool[0][0]                \n",
            "                                                                 up_sampling2d_10[0][0]           \n",
            "__________________________________________________________________________________________________\n",
            "conv2d_12 (Conv2D)              (None, 20, 20, 512)  4719104     concatenate_8[0][0]              \n",
            "__________________________________________________________________________________________________\n",
            "batch_normalization_12 (BatchNo (None, 20, 20, 512)  2048        conv2d_12[0][0]                  \n",
            "__________________________________________________________________________________________________\n",
            "up_sampling2d_11 (UpSampling2D) (None, 40, 40, 512)  0           batch_normalization_12[0][0]     \n",
            "__________________________________________________________________________________________________\n",
            "concatenate_9 (Concatenate)     (None, 40, 40, 768)  0           block3_pool[0][0]                \n",
            "                                                                 up_sampling2d_11[0][0]           \n",
            "__________________________________________________________________________________________________\n",
            "conv2d_13 (Conv2D)              (None, 40, 40, 256)  1769728     concatenate_9[0][0]              \n",
            "__________________________________________________________________________________________________\n",
            "batch_normalization_13 (BatchNo (None, 40, 40, 256)  1024        conv2d_13[0][0]                  \n",
            "__________________________________________________________________________________________________\n",
            "up_sampling2d_12 (UpSampling2D) (None, 80, 80, 256)  0           batch_normalization_13[0][0]     \n",
            "__________________________________________________________________________________________________\n",
            "concatenate_10 (Concatenate)    (None, 80, 80, 384)  0           block2_pool[0][0]                \n",
            "                                                                 up_sampling2d_12[0][0]           \n",
            "__________________________________________________________________________________________________\n",
            "conv2d_14 (Conv2D)              (None, 80, 80, 128)  442496      concatenate_10[0][0]             \n",
            "__________________________________________________________________________________________________\n",
            "batch_normalization_14 (BatchNo (None, 80, 80, 128)  512         conv2d_14[0][0]                  \n",
            "__________________________________________________________________________________________________\n",
            "up_sampling2d_13 (UpSampling2D) (None, 160, 160, 128 0           batch_normalization_14[0][0]     \n",
            "__________________________________________________________________________________________________\n",
            "concatenate_11 (Concatenate)    (None, 160, 160, 192 0           block1_pool[0][0]                \n",
            "                                                                 up_sampling2d_13[0][0]           \n",
            "__________________________________________________________________________________________________\n",
            "conv2d_15 (Conv2D)              (None, 160, 160, 64) 110656      concatenate_11[0][0]             \n",
            "__________________________________________________________________________________________________\n",
            "batch_normalization_15 (BatchNo (None, 160, 160, 64) 256         conv2d_15[0][0]                  \n",
            "__________________________________________________________________________________________________\n",
            "up_sampling2d_14 (UpSampling2D) (None, 320, 320, 64) 0           batch_normalization_15[0][0]     \n",
            "__________________________________________________________________________________________________\n",
            "conv2d_16 (Conv2D)              (None, 320, 320, 64) 36928       up_sampling2d_14[0][0]           \n",
            "__________________________________________________________________________________________________\n",
            "batch_normalization_16 (BatchNo (None, 320, 320, 64) 256         conv2d_16[0][0]                  \n",
            "__________________________________________________________________________________________________\n",
            "conv2d_17 (Conv2D)              (None, 320, 320, 11) 715         batch_normalization_16[0][0]     \n",
            "__________________________________________________________________________________________________\n",
            "batch_normalization_17 (BatchNo (None, 320, 320, 11) 44          conv2d_17[0][0]                  \n",
            "__________________________________________________________________________________________________\n",
            "activation_4 (Activation)       (None, 320, 320, 11) 0           batch_normalization_17[0][0]     \n",
            "__________________________________________________________________________________________________\n",
            "reshape_2 (Reshape)             (None, 102400, 11)   0           activation_4[0][0]               \n",
            "__________________________________________________________________________________________________\n",
            "activation_5 (Activation)       (None, 102400, 11)   0           reshape_2[0][0]                  \n",
            "==================================================================================================\n",
            "Total params: 21,798,455\n",
            "Trainable params: 21,796,385\n",
            "Non-trainable params: 2,070\n",
            "__________________________________________________________________________________________________\n"
          ],
          "name": "stdout"
        }
      ]
    },
    {
      "cell_type": "code",
      "metadata": {
        "id": "wsVLcEqDKYG-"
      },
      "source": [
        "callbacks = [\n",
        "    # EarlyStopping(patience=10, verbose=1),\n",
        "    ReduceLROnPlateau(factor=0.1, patience=5, min_lr=0.00001, verbose=1),\n",
        "    ModelCheckpoint('model-satellight-image.h5', verbose=1, save_best_only=True, save_weights_only=True),\n",
        "    TensorBoard(log_dir='./logs')\n",
        "]"
      ],
      "execution_count": 27,
      "outputs": []
    },
    {
      "cell_type": "code",
      "metadata": {
        "id": "6h4BW3AgLGkF",
        "outputId": "f8c8df42-4e59-43fe-f2db-6a3b790690cb",
        "colab": {
          "base_uri": "https://localhost:8080/"
        }
      },
      "source": [
        "results = model.fit(dataset,\n",
        "                    batch_size =batch_size,\n",
        "                    steps_per_epoch= abs(367./batch_size), \n",
        "                    epochs=50, \n",
        "                    callbacks=callbacks, \n",
        "                    validation_data=valset, \n",
        "                    use_multiprocessing=True,\n",
        "                    validation_steps = batch_size,\n",
        "                    verbose=2)"
      ],
      "execution_count": 28,
      "outputs": [
        {
          "output_type": "stream",
          "text": [
            "Epoch 1/50\n",
            "WARNING:tensorflow:From /usr/local/lib/python3.6/dist-packages/tensorflow/python/ops/summary_ops_v2.py:1277: stop (from tensorflow.python.eager.profiler) is deprecated and will be removed after 2020-07-01.\n",
            "Instructions for updating:\n",
            "use `tf.profiler.experimental.stop` instead.\n",
            "WARNING:tensorflow:Your input ran out of data; interrupting training. Make sure that your dataset or generator can generate at least `steps_per_epoch * epochs` batches (in this case, 2293.75 batches). You may need to use the repeat() function when building your dataset.\n",
            "WARNING:tensorflow:Your input ran out of data; interrupting training. Make sure that your dataset or generator can generate at least `steps_per_epoch * epochs` batches (in this case, 8 batches). You may need to use the repeat() function when building your dataset.\n",
            "\n",
            "Epoch 00001: val_loss improved from inf to 4.76689, saving model to model-satellight-image.h5\n",
            "12/45 - 33s - loss: 2.4690 - accuracy: 0.0642 - val_loss: 4.7669 - val_accuracy: 0.0437\n"
          ],
          "name": "stdout"
        }
      ]
    },
    {
      "cell_type": "code",
      "metadata": {
        "id": "3k5VEXuhL_E2"
      },
      "source": [
        ""
      ],
      "execution_count": null,
      "outputs": []
    }
  ]
}